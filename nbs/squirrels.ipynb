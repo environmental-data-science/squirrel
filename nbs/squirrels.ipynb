{
 "cells": [
  {
   "cell_type": "code",
   "execution_count": 13,
   "metadata": {},
   "outputs": [
    {
     "name": "stdout",
     "output_type": "stream",
     "text": [
      "<class 'pandas.core.frame.DataFrame'>\n",
      "RangeIndex: 3023 entries, 0 to 3022\n",
      "Data columns (total 31 columns):\n",
      " #   Column                                      Non-Null Count  Dtype  \n",
      "---  ------                                      --------------  -----  \n",
      " 0   X                                           3023 non-null   float64\n",
      " 1   Y                                           3023 non-null   float64\n",
      " 2   Unique Squirrel ID                          3023 non-null   object \n",
      " 3   Hectare                                     3023 non-null   object \n",
      " 4   Shift                                       3023 non-null   object \n",
      " 5   Date                                        3023 non-null   int64  \n",
      " 6   Hectare Squirrel Number                     3023 non-null   int64  \n",
      " 7   Age                                         2902 non-null   object \n",
      " 8   Primary Fur Color                           2968 non-null   object \n",
      " 9   Highlight Fur Color                         1937 non-null   object \n",
      " 10  Combination of Primary and Highlight Color  3023 non-null   object \n",
      " 11  Color notes                                 182 non-null    object \n",
      " 12  Location                                    2959 non-null   object \n",
      " 13  Above Ground Sighter Measurement            2909 non-null   object \n",
      " 14  Specific Location                           476 non-null    object \n",
      " 15  Running                                     3023 non-null   bool   \n",
      " 16  Chasing                                     3023 non-null   bool   \n",
      " 17  Climbing                                    3023 non-null   bool   \n",
      " 18  Eating                                      3023 non-null   bool   \n",
      " 19  Foraging                                    3023 non-null   bool   \n",
      " 20  Other Activities                            437 non-null    object \n",
      " 21  Kuks                                        3023 non-null   bool   \n",
      " 22  Quaas                                       3023 non-null   bool   \n",
      " 23  Moans                                       3023 non-null   bool   \n",
      " 24  Tail flags                                  3023 non-null   bool   \n",
      " 25  Tail twitches                               3023 non-null   bool   \n",
      " 26  Approaches                                  3023 non-null   bool   \n",
      " 27  Indifferent                                 3023 non-null   bool   \n",
      " 28  Runs from                                   3023 non-null   bool   \n",
      " 29  Other Interactions                          240 non-null    object \n",
      " 30  Lat/Long                                    3023 non-null   object \n",
      "dtypes: bool(13), float64(2), int64(2), object(14)\n",
      "memory usage: 463.6+ KB\n"
     ]
    }
   ],
   "source": [
    "# import data into a dataframe\n",
    "\n",
    "import pandas as pd\n",
    "import numpy as np\n",
    "import matplotlib.pyplot as plt\n",
    "\n",
    "\n",
    "squirrels_df = pd.read_csv('../data/2018_Central_Park_Squirrel_Census_-_Squirrel_Data.csv')\n",
    "squirrels_df.info()\n"
   ]
  }
 ],
 "metadata": {
  "kernelspec": {
   "display_name": "eds217_2023",
   "language": "python",
   "name": "python3"
  },
  "language_info": {
   "codemirror_mode": {
    "name": "ipython",
    "version": 3
   },
   "file_extension": ".py",
   "mimetype": "text/x-python",
   "name": "python",
   "nbconvert_exporter": "python",
   "pygments_lexer": "ipython3",
   "version": "3.10.12"
  },
  "orig_nbformat": 4
 },
 "nbformat": 4,
 "nbformat_minor": 2
}
